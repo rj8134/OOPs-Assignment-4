{
 "cells": [
  {
   "cell_type": "markdown",
   "id": "a7ccb3e5-acd5-4610-95fc-54bd6d681b36",
   "metadata": {},
   "source": [
    "# Q1. Explain Class and Object with respect to Object-Oriented Programming. Give a suitable example."
   ]
  },
  {
   "cell_type": "code",
   "execution_count": 1,
   "id": "7867eca2-1a36-4867-8555-1710174a496c",
   "metadata": {},
   "outputs": [
    {
     "ename": "SyntaxError",
     "evalue": "invalid syntax (2194731231.py, line 1)",
     "output_type": "error",
     "traceback": [
      "\u001b[0;36m  Cell \u001b[0;32mIn[1], line 1\u001b[0;36m\u001b[0m\n\u001b[0;31m    A class is considered as a blueprint of objects. We can think of the class as a sketch (prototype) of a house.\u001b[0m\n\u001b[0m      ^\u001b[0m\n\u001b[0;31mSyntaxError\u001b[0m\u001b[0;31m:\u001b[0m invalid syntax\n"
     ]
    }
   ],
   "source": [
    "A class is considered as a blueprint of objects. We can think of the class as a sketch (prototype) of a house. \n",
    "It contains all the details about the floors, doors, windows, etc. \n",
    "Based on these descriptions we build the house. House is the object.\n",
    "\n",
    "Since many houses can be made from the same description, we can create many objects from a class.\n",
    "\n"
   ]
  },
  {
   "cell_type": "code",
   "execution_count": 2,
   "id": "1e1b692d-bea9-4fd8-9a8f-541393210392",
   "metadata": {},
   "outputs": [],
   "source": [
    "class pwskills:\n",
    "    \n",
    "    def welcome_msg(self):\n",
    "        print(\"welcome to pwskills\")"
   ]
  },
  {
   "cell_type": "code",
   "execution_count": 5,
   "id": "76c2e7e8-1f13-44bf-894b-999662f835df",
   "metadata": {},
   "outputs": [],
   "source": [
    "rahul=pwskills()\n"
   ]
  },
  {
   "cell_type": "code",
   "execution_count": 6,
   "id": "fe62e3ff-0660-4d4a-9005-f599d67564cf",
   "metadata": {},
   "outputs": [
    {
     "name": "stdout",
     "output_type": "stream",
     "text": [
      "welcome to pwskills\n"
     ]
    }
   ],
   "source": [
    "rahul.welcome_msg()"
   ]
  },
  {
   "cell_type": "markdown",
   "id": "94419cbf-4a59-422c-9e95-0784382b6b1b",
   "metadata": {},
   "source": [
    "# Q2. Name the four pillars of OOPs."
   ]
  },
  {
   "cell_type": "code",
   "execution_count": null,
   "id": "7aafba96-658f-412d-9785-6cb8e018370a",
   "metadata": {},
   "outputs": [],
   "source": [
    "The four pillars of object-oriented programming are:\n",
    "\n",
    "Abstraction\n",
    "Encapsulation\n",
    "Inheritance\n",
    "Polymorphism"
   ]
  },
  {
   "cell_type": "markdown",
   "id": "54082386-175b-44e0-a0c4-f1f9d27089b4",
   "metadata": {},
   "source": [
    "# Q3. Explain why the __init__() function is used. Give a suitable example."
   ]
  },
  {
   "cell_type": "code",
   "execution_count": 8,
   "id": "9c92bc3a-1d00-4c2b-b3e2-f2b1a1ae5855",
   "metadata": {},
   "outputs": [
    {
     "ename": "SyntaxError",
     "evalue": "invalid character '’' (U+2019) (1050823012.py, line 5)",
     "output_type": "error",
     "traceback": [
      "\u001b[0;36m  Cell \u001b[0;32mIn[8], line 5\u001b[0;36m\u001b[0m\n\u001b[0;31m    The Default __init__ Constructor in C++ and Java. Constructors are used to initializing the object’s state. The task of constructors is to initialize(assign values) to the data members of the class when an object of the class is created. Like methods, a constructor also contains a collection of statements(i.e. instructions) that are executed at the time of Object creation. It is run as soon as an object of a class is instantiated. The method is useful to do any initialization you want to do with your object.\u001b[0m\n\u001b[0m                                                                                                      ^\u001b[0m\n\u001b[0;31mSyntaxError\u001b[0m\u001b[0;31m:\u001b[0m invalid character '’' (U+2019)\n"
     ]
    }
   ],
   "source": [
    "All classes have a function called __init__(), which is always executed when the class is being initiated.\n",
    "\n",
    "Use the __init__() function to assign values to object properties, or other operations that are necessary to do when the object is being created\n",
    "\n",
    "The Default __init__ Constructor in C++ and Java. Constructors are used to initializing the object’s state. \n",
    "The task of constructors is to initialize(assign values) to the data members of the class when an object of the class is created. Like methods, a constructor also contains a collection of statements(i.e. instructions) that are executed at the time of Object creation. It is run as soon as an object of a class is instantiated. The method is useful to do any initialization you want to do with your object."
   ]
  },
  {
   "cell_type": "code",
   "execution_count": 18,
   "id": "40d088cc-d6e7-43b5-9353-7a8711f50bdb",
   "metadata": {},
   "outputs": [],
   "source": [
    "class pwskills1:\n",
    "    def __init__(self, phone_no,student_id):\n",
    "        self.phone_number=phone_no\n",
    "        self.student_id=student_id\n",
    "    def return_student_details(self):\n",
    "        return self.phone_number,self.student_id\n",
    "        "
   ]
  },
  {
   "cell_type": "code",
   "execution_count": 19,
   "id": "f4646fb2-1c8b-4c29-8e5a-d2f3406fdb8a",
   "metadata": {},
   "outputs": [],
   "source": [
    "rohan=pwskills1(414544514,123)"
   ]
  },
  {
   "cell_type": "code",
   "execution_count": 16,
   "id": "3abed855-ef1e-4cc5-9463-2cf6a5ee2658",
   "metadata": {},
   "outputs": [
    {
     "data": {
      "text/plain": [
       "414544514"
      ]
     },
     "execution_count": 16,
     "metadata": {},
     "output_type": "execute_result"
    }
   ],
   "source": [
    "rohan.phone_number\n"
   ]
  },
  {
   "cell_type": "code",
   "execution_count": 20,
   "id": "f6cb9d75-9d25-4cc2-b864-6101268d700a",
   "metadata": {},
   "outputs": [
    {
     "data": {
      "text/plain": [
       "123"
      ]
     },
     "execution_count": 20,
     "metadata": {},
     "output_type": "execute_result"
    }
   ],
   "source": [
    "rohan.student_id"
   ]
  },
  {
   "cell_type": "code",
   "execution_count": 21,
   "id": "9cf9de02-af13-4feb-b8bb-749ca7d07440",
   "metadata": {},
   "outputs": [
    {
     "data": {
      "text/plain": [
       "(414544514, 123)"
      ]
     },
     "execution_count": 21,
     "metadata": {},
     "output_type": "execute_result"
    }
   ],
   "source": [
    "rohan.return_student_details()"
   ]
  },
  {
   "cell_type": "markdown",
   "id": "27bd895d-b886-4895-beff-5d76360f5b7a",
   "metadata": {},
   "source": [
    "# Why self is used in OOPs?"
   ]
  },
  {
   "cell_type": "code",
   "execution_count": null,
   "id": "0fd66951-fe98-4c27-95b3-f1dc8f7996e4",
   "metadata": {},
   "outputs": [],
   "source": [
    "The self parameter is a reference to the current instance of the class, and is used to access variables that belongs to the class.\n",
    "\n",
    "It does not have to be named self , you can call it whatever you like, but it has to be the first parameter of any function in the class"
   ]
  },
  {
   "cell_type": "code",
   "execution_count": 22,
   "id": "740b1fe2-500c-4763-bb3f-6f1a81a8035d",
   "metadata": {},
   "outputs": [
    {
     "name": "stdout",
     "output_type": "stream",
     "text": [
      "Hello my name is John\n"
     ]
    }
   ],
   "source": [
    "class Person:\n",
    "  def __init__(mysillyobject, name, age):\n",
    "    mysillyobject.name = name\n",
    "    mysillyobject.age = age\n",
    "\n",
    "  def myfunc(abc):\n",
    "    print(\"Hello my name is \" + abc.name)\n",
    "\n",
    "p1 = Person(\"John\", 36)\n",
    "p1.myfunc()"
   ]
  },
  {
   "cell_type": "markdown",
   "id": "7ae631ee-3f93-45f5-9f44-1da7924cd2d2",
   "metadata": {},
   "source": [
    "# Q5.What is inheritance? Give an example for each type of inheritance."
   ]
  },
  {
   "cell_type": "code",
   "execution_count": null,
   "id": "3bda83b4-67e4-4911-9d69-2a7c5104a8eb",
   "metadata": {},
   "outputs": [],
   "source": [
    "Inheritance is defined as the mechanism of inheriting the properties of the base class to the child class.\n",
    "Inheritance allows us to create a new class from an existing class.\n",
    "\n",
    "The new class that is created is known as subclass (child or derived class) and the existing class from which the child class is derived is known as superclass (parent or base class).\n",
    "\n"
   ]
  },
  {
   "cell_type": "code",
   "execution_count": 24,
   "id": "c8ba7b29-1137-4832-a25c-a815082ab666",
   "metadata": {},
   "outputs": [],
   "source": [
    "# Single Inheritance\n",
    "class parent:\n",
    "    def test_parent(self):\n",
    "        print(\"This is my parent class\")\n",
    "class child(parent):\n",
    "    pass"
   ]
  },
  {
   "cell_type": "code",
   "execution_count": 25,
   "id": "7b8ec38c-645b-4be4-83cf-1c7253d964da",
   "metadata": {},
   "outputs": [
    {
     "name": "stdout",
     "output_type": "stream",
     "text": [
      "This is my parent class\n"
     ]
    }
   ],
   "source": [
    "child_obj=child()\n",
    "child_obj.test_parent()"
   ]
  },
  {
   "cell_type": "code",
   "execution_count": 27,
   "id": "701d3f2d-f632-4b55-a1db-676925724c27",
   "metadata": {},
   "outputs": [],
   "source": [
    "# Multilevel Inheritance\n",
    "class class1:\n",
    "    def test_class1(self):\n",
    "        print(\"This is my class1\")\n",
    "class class2(class1):\n",
    "    def test_class2(self):\n",
    "        print(\"This is my class2\")\n",
    "class class3(class2):\n",
    "    def test_class3(self):\n",
    "        print(\"This is my class3\")"
   ]
  },
  {
   "cell_type": "code",
   "execution_count": 28,
   "id": "dd99f40f-90c1-47df-9cd9-564bbe559008",
   "metadata": {},
   "outputs": [
    {
     "name": "stdout",
     "output_type": "stream",
     "text": [
      "This is my class1\n",
      "This is my class2\n",
      "This is my class3\n"
     ]
    }
   ],
   "source": [
    "class3_obj=class3()\n",
    "class3_obj.test_class1()\n",
    "class3_obj.test_class2()\n",
    "class3_obj.test_class3()\n"
   ]
  },
  {
   "cell_type": "code",
   "execution_count": 32,
   "id": "da92dadd-6cd3-47be-bb85-4b4fb79db80f",
   "metadata": {},
   "outputs": [],
   "source": [
    "# Multilevel Inheritance\n",
    "# Instead of naming self,we can pass any name it will work same as self\n",
    "class class1:\n",
    "    def test_class1(rahul):\n",
    "        print(\"This is my class1\")\n",
    "class class2(class1):\n",
    "    def test_class2(rahul1):\n",
    "        print(\"This is my class2\")\n",
    "class class3(class2):\n",
    "    def test_class3(rahul2):\n",
    "        print(\"This is my class3\")"
   ]
  },
  {
   "cell_type": "code",
   "execution_count": 33,
   "id": "bbe7d621-b177-4c9f-bb55-fd682897c947",
   "metadata": {},
   "outputs": [
    {
     "name": "stdout",
     "output_type": "stream",
     "text": [
      "This is my class1\n",
      "This is my class2\n",
      "This is my class3\n"
     ]
    }
   ],
   "source": [
    "class3_obj=class3()\n",
    "class3_obj.test_class1()\n",
    "class3_obj.test_class2()\n",
    "class3_obj.test_class3()"
   ]
  },
  {
   "cell_type": "code",
   "execution_count": 35,
   "id": "442e1c5b-6a58-4117-9677-8842389b512a",
   "metadata": {},
   "outputs": [
    {
     "name": "stdout",
     "output_type": "stream",
     "text": [
      "This is my class1\n",
      "This is my class2\n",
      "This is my class3\n"
     ]
    }
   ],
   "source": [
    "# Multiple Inheritance\n",
    "class class1:\n",
    "    def test_class1(self):\n",
    "        print(\"This is my class1\")\n",
    "class class2:\n",
    "    def test_class2(self):\n",
    "        print(\"This is my class2\")\n",
    "class class3(class1,class2):\n",
    "    def test_class3(self):\n",
    "        print(\"This is my class3\")\n",
    "class3_obj=class3()\n",
    "class3_obj.test_class1()\n",
    "class3_obj.test_class2()\n",
    "class3_obj.test_class3()"
   ]
  },
  {
   "cell_type": "code",
   "execution_count": null,
   "id": "5c9fafd5-a67a-4433-9e05-aa06af1b8528",
   "metadata": {},
   "outputs": [],
   "source": []
  }
 ],
 "metadata": {
  "kernelspec": {
   "display_name": "Python 3 (ipykernel)",
   "language": "python",
   "name": "python3"
  },
  "language_info": {
   "codemirror_mode": {
    "name": "ipython",
    "version": 3
   },
   "file_extension": ".py",
   "mimetype": "text/x-python",
   "name": "python",
   "nbconvert_exporter": "python",
   "pygments_lexer": "ipython3",
   "version": "3.10.8"
  }
 },
 "nbformat": 4,
 "nbformat_minor": 5
}
